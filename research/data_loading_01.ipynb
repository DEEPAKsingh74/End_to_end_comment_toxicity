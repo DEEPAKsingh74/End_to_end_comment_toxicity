{
 "cells": [
  {
   "cell_type": "code",
   "execution_count": 1,
   "metadata": {},
   "outputs": [],
   "source": [
    "import os"
   ]
  },
  {
   "cell_type": "code",
   "execution_count": 2,
   "metadata": {},
   "outputs": [
    {
     "data": {
      "text/plain": [
       "'c:\\\\Users\\\\deepak singh\\\\OneDrive\\\\Desktop\\\\comment-toxicity\\\\End_to_end_comment_toxicity'"
      ]
     },
     "execution_count": 2,
     "metadata": {},
     "output_type": "execute_result"
    }
   ],
   "source": [
    "os.chdir(\"../\")\n",
    "%pwd"
   ]
  },
  {
   "cell_type": "code",
   "execution_count": 3,
   "metadata": {},
   "outputs": [],
   "source": [
    "# entity\n",
    "\n",
    "from dataclasses import dataclass\n",
    "from pathlib import Path\n",
    "\n",
    "@dataclass(frozen=True)\n",
    "class DataLoadingConfig:\n",
    "\tzip_file_path: Path\n",
    "\tdestination_dir: Path"
   ]
  },
  {
   "cell_type": "code",
   "execution_count": 5,
   "metadata": {},
   "outputs": [],
   "source": [
    "from commentToxicity import logger\n",
    "from commentToxicity.constants import *"
   ]
  },
  {
   "cell_type": "code",
   "execution_count": 6,
   "metadata": {},
   "outputs": [],
   "source": [
    "from commentToxicity.constants import *\n",
    "from commentToxicity.utils.common import read_yaml, create_directories"
   ]
  },
  {
   "cell_type": "code",
   "execution_count": 7,
   "metadata": {},
   "outputs": [],
   "source": [
    "# config/configuration.py\n",
    "\n",
    "class ConfigurationManager:\n",
    "    def __init__(\n",
    "        self,\n",
    "        config_filepath=CONFIG_FILE_PATH,\n",
    "        params_filepath=PARAMS_FILE_PATH\n",
    "    ):\n",
    "        self.config = read_yaml(config_filepath)\n",
    "        self.params = read_yaml(params_filepath)\n",
    "\n",
    "    def get_data_loading_config(self) -> DataLoadingConfig:\n",
    "        config = self.config.data_loading\n",
    "\n",
    "        data_loading_config = DataLoadingConfig(\n",
    "            zip_file_path=config.zip_file_path,\n",
    "            destination_dir=config.destination_dir\n",
    "        )\n",
    "\n",
    "        return data_loading_config\n"
   ]
  },
  {
   "cell_type": "code",
   "execution_count": 23,
   "metadata": {},
   "outputs": [],
   "source": [
    "import zipfile\n",
    "import os\n",
    "import shutil\n",
    "\n",
    "class DataLoading:\n",
    "    def __init__(self, config: DataLoadingConfig):\n",
    "        self.config = config\n",
    "\n",
    "    def data_unzip(self):\n",
    "        def unzip_file(zip_path, extract_to):\n",
    "            with zipfile.ZipFile(zip_path, 'r') as zip_ref:\n",
    "                zip_ref.extractall(extract_to)\n",
    "                # Check for nested zip files\n",
    "                for member in zip_ref.namelist():\n",
    "                    # If the member is a zip file, unzip it recursively\n",
    "                    if member.endswith('.zip'):\n",
    "                        nested_zip_path = os.path.join(extract_to, member)\n",
    "                        unzip_file(nested_zip_path, extract_to)\n",
    "\n",
    "        try:\n",
    "            extraction_dir = os.path.dirname(self.config.zip_file_path)\n",
    "            unzip_file(self.config.zip_file_path, extraction_dir)\n",
    "\n",
    "            logger.info(f\"Data extracted in {extraction_dir}\")\n",
    "\n",
    "        except Exception as e:\n",
    "            raise e\n",
    "\n",
    "    def load_data(self):\n",
    "        try:\n",
    "            root_dir = os.path.dirname(self.config.zip_file_path)\n",
    "            train_file_path = os.path.join(root_dir, \"train.csv\")\n",
    "\n",
    "            shutil.copy(train_file_path, self.config.destination_dir)\n",
    "\n",
    "            logger.info(f\"Data copied to {self.config.destination_dir}\")\n",
    "        except Exception as e:\n",
    "            raise e\n"
   ]
  },
  {
   "cell_type": "code",
   "execution_count": 24,
   "metadata": {},
   "outputs": [
    {
     "name": "stdout",
     "output_type": "stream",
     "text": [
      "[2024-09-25 23:10:14,595: INFO: 2252534611: >>>>>> stage Data Loading stage started <<<<<<]\n",
      "[2024-09-25 23:10:14,598: INFO: common: yaml file: config\\config.yaml loaded successfully]\n",
      "[2024-09-25 23:10:14,599: INFO: common: yaml file: params.yaml loaded successfully]\n",
      "[2024-09-25 23:10:15,804: INFO: 2001161588: Data extracted in data/raw]\n",
      "[2024-09-25 23:10:16,102: INFO: 2001161588: Data copied to data/interim/]\n",
      "[2024-09-25 23:10:16,104: INFO: 2252534611: >>>>>> stage Data Loading stage completed <<<<<<\n",
      "\n",
      "x==========x]\n"
     ]
    }
   ],
   "source": [
    "# pipeline\n",
    "\n",
    "# from cnnClassifier.config.configuration import ConfigurationManager\n",
    "# from cnnClassifier.components.data_ingestion import DataIngestion\n",
    "# from cnnClassifier import logger\n",
    "\n",
    "\n",
    "\n",
    "STAGE_NAME = \"Data Loading stage\"\n",
    "\n",
    "class DataLoadingPipeline:\n",
    "    def __init__(self):\n",
    "        pass\n",
    "\n",
    "    def main(self):\n",
    "        config = ConfigurationManager()\n",
    "        data_loading_config = config.get_data_loading_config()\n",
    "        data_loading = DataLoading(config=data_loading_config)\n",
    "        data_loading.data_unzip()\n",
    "        data_loading.load_data()\n",
    "\n",
    "\n",
    "if __name__ == '__main__':\n",
    "    try:\n",
    "        logger.info(f\">>>>>> stage {STAGE_NAME} started <<<<<<\")\n",
    "        obj = DataLoadingPipeline()\n",
    "        obj.main()\n",
    "        logger.info(f\">>>>>> stage {STAGE_NAME} completed <<<<<<\\n\\nx==========x\")\n",
    "    except Exception as e:\n",
    "        logger.exception(e)\n",
    "        raise e"
   ]
  }
 ],
 "metadata": {
  "kernelspec": {
   "display_name": "commentToxicity",
   "language": "python",
   "name": "python3"
  },
  "language_info": {
   "codemirror_mode": {
    "name": "ipython",
    "version": 3
   },
   "file_extension": ".py",
   "mimetype": "text/x-python",
   "name": "python",
   "nbconvert_exporter": "python",
   "pygments_lexer": "ipython3",
   "version": "3.10.0"
  }
 },
 "nbformat": 4,
 "nbformat_minor": 2
}
